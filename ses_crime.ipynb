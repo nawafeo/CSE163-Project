{
 "cells": [
  {
   "cell_type": "markdown",
   "id": "737652a3-39de-4dbe-b396-608822a6e7eb",
   "metadata": {},
   "source": [
    "# How do socioeconomic factors affect crime rates in Seattle?\n",
    "## Chantria Im, Ellie Velaz, and Nawaf Osman"
   ]
  },
  {
   "cell_type": "code",
   "execution_count": null,
   "id": "41b9d86a-1c45-4ee4-a0f1-1bde64f6bce0",
   "metadata": {},
   "outputs": [],
   "source": [
    "import pandas as pd\n",
    "\n",
    "# Loading the dataset\n",
    "crime_df = pd.read_csv(\"./data/SPD_Crime_Data__2008-Present_20240226.csv\")\n",
    "\n",
    "# Convert 'Report DateTime' column to datetime\n",
    "crime_df['Report DateTime'] = pd.to_datetime(crime_df['Report DateTime'])\n",
    "\n",
    "# Filter for only 2018 entries\n",
    "crime_df = crime_df[crime_df['Report DateTime'].dt.year == 2018]\n",
    "\n",
    "# Get rid of rows with 0 in the Longitude and Latitude columns\n",
    "crime_df = crime_df[(crime_df['Longitude'] != 0) & (crime_df['Latitude'] != 0)]\n",
    "\n",
    "print(crime_df.head())\n"
   ]
  }
 ],
 "metadata": {
  "kernelspec": {
   "display_name": "Python 3 (ipykernel)",
   "language": "python",
   "name": "python3"
  },
  "language_info": {
   "codemirror_mode": {
    "name": "ipython",
    "version": 3
   },
   "file_extension": ".py",
   "mimetype": "text/x-python",
   "name": "python",
   "nbconvert_exporter": "python",
   "pygments_lexer": "ipython3",
   "version": "3.11.4"
  }
 },
 "nbformat": 4,
 "nbformat_minor": 5
}
